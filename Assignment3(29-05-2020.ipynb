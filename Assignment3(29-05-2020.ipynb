{
 "cells": [
  {
   "cell_type": "code",
   "execution_count": 1,
   "metadata": {},
   "outputs": [
    {
     "name": "stdout",
     "output_type": "stream",
     "text": [
      "Enter a number: 5\n",
      "120\n"
     ]
    }
   ],
   "source": [
    "#answer 1\n",
    "\n",
    "def factorial(n):\n",
    "    if n== 1:\n",
    "        return n\n",
    "    else:\n",
    "        return n * factorial(n-1)\n",
    "num = int(input(\"Enter a number: \"))\n",
    "print(factorial(num))"
   ]
  },
  {
   "cell_type": "code",
   "execution_count": 2,
   "metadata": {},
   "outputs": [
    {
     "name": "stdout",
     "output_type": "stream",
     "text": [
      "13\n"
     ]
    }
   ],
   "source": [
    "#answer 2\n",
    "\n",
    "def Fibonacci(n): \n",
    "    if n<0: \n",
    "        print(\"Incorrect input\") \n",
    "    elif n==1: \n",
    "        return 0\n",
    "    elif n==2: \n",
    "        return 1\n",
    "    else: \n",
    "        return Fibonacci(n-1)+Fibonacci(n-2) \n",
    "    \n",
    "print(Fibonacci(8))"
   ]
  },
  {
   "cell_type": "code",
   "execution_count": 3,
   "metadata": {},
   "outputs": [
    {
     "name": "stdout",
     "output_type": "stream",
     "text": [
      "15\n"
     ]
    }
   ],
   "source": [
    "#answer 3\n",
    "\n",
    "list=[1,2,3,4,5]\n",
    "print(sum(list))"
   ]
  },
  {
   "cell_type": "code",
   "execution_count": 4,
   "metadata": {},
   "outputs": [
    {
     "name": "stdout",
     "output_type": "stream",
     "text": [
      "2\n",
      "4\n"
     ]
    }
   ],
   "source": [
    "#answer 4\n",
    "\n",
    "list = [1,2,3,4,5]\n",
    "\n",
    " \n",
    "for i in list:\n",
    "    if i % 2 == 0: \n",
    "        print(i)"
   ]
  },
  {
   "cell_type": "code",
   "execution_count": 5,
   "metadata": {},
   "outputs": [
    {
     "name": "stdout",
     "output_type": "stream",
     "text": [
      "The Smallest Element in this List is :  10\n",
      "The Index of the Smallest Element in this List is :  0\n"
     ]
    }
   ],
   "source": [
    "#answer 5\n",
    "\n",
    "a = [10, 50, 60, 80, 20, 15]\n",
    "\n",
    "print(\"The Smallest Element in this List is : \", min(a))\n",
    "print(\"The Index of the Smallest Element in this List is : \", a.index(min(a)))"
   ]
  },
  {
   "cell_type": "code",
   "execution_count": 6,
   "metadata": {},
   "outputs": [
    {
     "name": "stdout",
     "output_type": "stream",
     "text": [
      "enter a stringwow\n",
      "palindrome\n"
     ]
    }
   ],
   "source": [
    "#answer 6\n",
    "\n",
    "def palindrome(str):\n",
    "    if str==str[::-1]:\n",
    "        return \"palindrome\"\n",
    "    else:\n",
    "        return 'not a palindrome'\n",
    "\n",
    "str=input(\"enter a string\")\n",
    "print(palindrome(str))"
   ]
  },
  {
   "cell_type": "code",
   "execution_count": 7,
   "metadata": {},
   "outputs": [
    {
     "name": "stdout",
     "output_type": "stream",
     "text": [
      "Even numbers in the list:  3\n",
      "Odd numbers in the list:  4\n"
     ]
    }
   ],
   "source": [
    "#answer 7\n",
    "\n",
    "list1 = [10, 21, 4, 45, 66, 93, 1] \n",
    "even_count, odd_count = 0, 0\n",
    "for num in list1:\n",
    "    if num % 2 == 0:\n",
    "        even_count += 1\n",
    "    else:\n",
    "        odd_count += 1\n",
    "          \n",
    "print(\"Even numbers in the list: \", even_count) \n",
    "print(\"Odd numbers in the list: \", odd_count)"
   ]
  },
  {
   "cell_type": "code",
   "execution_count": 8,
   "metadata": {},
   "outputs": [
    {
     "name": "stdout",
     "output_type": "stream",
     "text": [
      "0 1 2 4 5 \n",
      "\n"
     ]
    }
   ],
   "source": [
    "#answer 8\n",
    "\n",
    "for x in range(6):\n",
    "    if (x == 3 or x==6):\n",
    "        continue\n",
    "    print(x,end=' ')\n",
    "print(\"\\n\")"
   ]
  },
  {
   "cell_type": "code",
   "execution_count": 9,
   "metadata": {},
   "outputs": [
    {
     "name": "stdout",
     "output_type": "stream",
     "text": [
      "enter n19\n",
      "prime\n"
     ]
    }
   ],
   "source": [
    "\n",
    "#answer 9\n",
    "\n",
    "def prime(n):\n",
    "    count=0\n",
    "    for i in range(2,n+1):\n",
    "        if n%i==0:\n",
    "            count+=1\n",
    "    if count==1:\n",
    "        return \"prime\"\n",
    "    else:\n",
    "        return \"not a prime\"\n",
    "\n",
    "n=int(input(\"enter n\"))\n",
    "print(prime(n))"
   ]
  },
  {
   "cell_type": "code",
   "execution_count": null,
   "metadata": {},
   "outputs": [],
   "source": [
    "\n",
    "#answer 10\n",
    "\n",
    "n=int(input())\n",
    "def r(n):\n",
    "    return(int(str(n) [::-1]))\n",
    "def adam(n):\n",
    "    if r(n)**2==r(n**2):\n",
    "        return('Adam number')\n",
    "    else:\n",
    "        return('Not an Adam number')\n",
    "print(adam(n))"
   ]
  },
  {
   "cell_type": "code",
   "execution_count": null,
   "metadata": {},
   "outputs": [],
   "source": []
  },
  {
   "cell_type": "code",
   "execution_count": null,
   "metadata": {},
   "outputs": [],
   "source": []
  }
 ],
 "metadata": {
  "kernelspec": {
   "display_name": "Python 3",
   "language": "python",
   "name": "python3"
  },
  "language_info": {
   "codemirror_mode": {
    "name": "ipython",
    "version": 3
   },
   "file_extension": ".py",
   "mimetype": "text/x-python",
   "name": "python",
   "nbconvert_exporter": "python",
   "pygments_lexer": "ipython3",
   "version": "3.7.4"
  }
 },
 "nbformat": 4,
 "nbformat_minor": 2
}
